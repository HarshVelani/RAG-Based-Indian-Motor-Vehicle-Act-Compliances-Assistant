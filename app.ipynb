{
 "cells": [
  {
   "cell_type": "code",
   "execution_count": 2,
   "metadata": {},
   "outputs": [],
   "source": [
    "from langchain.vectorstores import Qdrant\n",
    "from langchain.embeddings import HuggingFaceBgeEmbeddings\n",
    "from qdrant_client import QdrantClient\n",
    "from langchain_community.llms import Ollama\n",
    "from langchain_core.prompts import ChatPromptTemplate\n",
    "from langchain_core.output_parsers import StrOutputParser\n",
    "from langchain.chains.combine_documents import create_stuff_documents_chain\n",
    "from langchain_ollama import ChatOllama\n",
    "from langchain_groq import ChatGroq\n",
    "from langchain_core.documents import Document\n",
    "from langchain.chains import create_retrieval_chain\n",
    "from langchain_huggingface import HuggingFaceEmbeddings\n",
    "import re"
   ]
  },
  {
   "cell_type": "code",
   "execution_count": 3,
   "metadata": {},
   "outputs": [],
   "source": [
    "import os\n",
    "from dotenv import load_dotenv\n",
    "load_dotenv()\n",
    "\n",
    "groq_api = os.getenv(\"GROQ_API_KEY\")"
   ]
  },
  {
   "cell_type": "code",
   "execution_count": null,
   "metadata": {},
   "outputs": [
    {
     "name": "stderr",
     "output_type": "stream",
     "text": [
      "e:\\ViitorCloud\\Projects\\RAG based Agentic AI for Motor Vehicles Act Compliances\\venv\\Lib\\site-packages\\tqdm\\auto.py:21: TqdmWarning: IProgress not found. Please update jupyter and ipywidgets. See https://ipywidgets.readthedocs.io/en/stable/user_install.html\n",
      "  from .autonotebook import tqdm as notebook_tqdm\n"
     ]
    },
    {
     "name": "stdout",
     "output_type": "stream",
     "text": [
      "[-0.002015401842072606, 0.013313878327608109, 0.01592436619102955, -0.01759568229317665, 0.05512344837188721]\n",
      "Hugging Face Embedding Model Loaded........\n"
     ]
    }
   ],
   "source": [
    "# load the embedding model\n",
    "# 1. BAAI/bge-small-en\n",
    "# 2. BAAI/bge-base-en\n",
    "\n",
    "\n",
    "# # LOCAL\n",
    "# model_name = 'BAAI/bge-small-en'\n",
    "# model_kwargs = {'device': 'cpu'}\n",
    "# encode_kwargs = {'normalize_embeddings': False}\n",
    "\n",
    "# embeddings= HuggingFaceBgeEmbeddings(\n",
    "#     model_name=model_name,\n",
    "#     model_kwargs=model_kwargs,\n",
    "#     encode_kwargs=encode_kwargs\n",
    "# )\n",
    "# print(\"Embedding Model Loaded........\")\n",
    "\n",
    "# Hugging Face embeddings\n",
    "\n",
    "# Load BAAI/bge-base-en model\n",
    "embeddings = HuggingFaceEmbeddings(model_name=\"BAAI/bge-base-en\")\n",
    "\n",
    "# Example usage: Generate embeddings for a text\n",
    "text = \"Agriculture analytics helps optimize crop yield.\"\n",
    "embedding_vector = embeddings.embed_query(text)\n",
    "\n",
    "# Print the embedding\n",
    "print(embedding_vector[:5])  # Display first 5 values for brevity\n",
    "\n",
    "print(\"Hugging Face Embedding Model Loaded........\")"
   ]
  },
  {
   "cell_type": "code",
   "execution_count": null,
   "metadata": {},
   "outputs": [
    {
     "name": "stdout",
     "output_type": "stream",
     "text": [
      "<qdrant_client.qdrant_client.QdrantClient object at 0x0000027D49658440>\n",
      "=============================\n"
     ]
    }
   ],
   "source": [
    "url = \"http://localhost:6333\"\n",
    "collection_name = \"MVA_db_bge_base_en\"\n",
    "\n",
    "client = QdrantClient(\n",
    "    url = url,\n",
    "    prefer_grpc = False\n",
    ")\n",
    "print(client)\n",
    "print(\"=============================\")"
   ]
  },
  {
   "cell_type": "markdown",
   "metadata": {},
   "source": [
    "Run this in powershell when there is connection error\n",
    "docker compose -f .\\docker-compose.yaml up --build -d"
   ]
  },
  {
   "cell_type": "code",
   "execution_count": 5,
   "metadata": {},
   "outputs": [
    {
     "name": "stdout",
     "output_type": "stream",
     "text": [
      "<langchain_community.vectorstores.qdrant.Qdrant object at 0x0000027D2711C590>\n",
      "=============================\n"
     ]
    },
    {
     "name": "stderr",
     "output_type": "stream",
     "text": [
      "C:\\Users\\velan\\AppData\\Local\\Temp\\ipykernel_25452\\2470458342.py:1: LangChainDeprecationWarning: The class `Qdrant` was deprecated in LangChain 0.0.37 and will be removed in 1.0. An updated version of the class exists in the :class:`~langchain-qdrant package and should be used instead. To use it run `pip install -U :class:`~langchain-qdrant` and import as `from :class:`~langchain_qdrant import Qdrant``.\n",
      "  db = Qdrant(\n"
     ]
    }
   ],
   "source": [
    "db = Qdrant(\n",
    "    client = client,\n",
    "    embeddings = embeddings,\n",
    "    collection_name = collection_name\n",
    ")\n",
    "\n",
    "print(db)\n",
    "print(\"=============================\")"
   ]
  },
  {
   "cell_type": "code",
   "execution_count": 6,
   "metadata": {},
   "outputs": [],
   "source": [
    "query = \"\"\"On March 5, 2025, at around 9:15 AM, a head-on collision occurred on the Eastern Express Highway in Mumbai when a two-wheeler, traveling on the wrong side , crashed into a sedan at high speed. The rider, identified as 24-year-old Arjun Verma, was trying to take a shortcut to avoid traffic when he suddenly entered the fast lane, colliding with an oncoming car driven by Priya Shah. The impact threw Arjun off his bike, causing severe head injuries , while Priya sustained minor bruises. Passersby called for help, and emergency services transported Arjun to the hospital. Police investigations confirmed that Arjun was at fault for violating traffic laws. Priya’s car repair costs were covered by Arjun’s third-party insurance, but he faced suspension of his driving license for repeated violations. The incident led to increased traffic surveillance and stricter enforcement against wrong-side driving in Mumbai.\"\"\"\n",
    "\n",
    "# db_result = db.similarity_search(\n",
    "#     query=query,\n",
    "#     k=3\n",
    "# )\n",
    "\n",
    "# for i in db_result:\n",
    "#     print(i.page_content)\n",
    "    # doc, score = i\n",
    "    # print(f\"\\n====>> Score: {score}, Content: {doc.page_content}, Metadata: {doc.metadata}\")"
   ]
  },
  {
   "cell_type": "code",
   "execution_count": 7,
   "metadata": {},
   "outputs": [],
   "source": [
    "# Define llm model\n",
    "llm = ChatGroq(model=\"llama3-8b-8192\")"
   ]
  },
  {
   "cell_type": "code",
   "execution_count": 24,
   "metadata": {},
   "outputs": [],
   "source": [
    "# Retrieval chain, Document chain\n",
    "# Prompt template\n",
    "prompt = ChatPromptTemplate.from_template(\n",
    "    \"\"\"\n",
    "    you are a traffic police inspector, advicing and explaining the MVA sections.\n",
    "So, based on the query:{input}, precisely filter the sections from the context\n",
    "and describe section information, \n",
    "if the sections are interconnected to one another then include them too,\n",
    "if any section is ommited then mention and highlight that,\n",
    "provide punishment and fine only from \"- Punishment and Fines\" from context,\n",
    "also apecify and explain if there is any state amendment if provided for particular section, \n",
    "pecisely based only on the provided context:{context}\n",
    "\n",
    "output should be:\n",
    "\n",
    "1. Section number:\n",
    "2. Section Title:\n",
    "3. Definition:\n",
    "4. Detailed information:\n",
    "5. State Amendments: If provided\n",
    "6. Punishments and Fines: from \"- Punishment and Fines:-\" only if provided\n",
    "\"\"\"\n",
    ")"
   ]
  },
  {
   "cell_type": "code",
   "execution_count": 25,
   "metadata": {},
   "outputs": [
    {
     "data": {
      "text/plain": [
       "RunnableBinding(bound=RunnableBinding(bound=RunnableAssign(mapper={\n",
       "  context: RunnableLambda(format_docs)\n",
       "}), kwargs={}, config={'run_name': 'format_inputs'}, config_factories=[])\n",
       "| ChatPromptTemplate(input_variables=['context', 'input'], input_types={}, partial_variables={}, messages=[HumanMessagePromptTemplate(prompt=PromptTemplate(input_variables=['context', 'input'], input_types={}, partial_variables={}, template='\\n    you are a traffic police inspector, advicing and explaining the MVA sections.\\nSo, based on the query:{input}, precisely filter the sections from the context\\nand describe section information, \\nif the sections are interconnected to one another then include them too,\\nif any section is ommited then mention and highlight that,\\nprovide punishment and fine only from \"- Punishment and Fines\" from context,\\nalso apecify and explain if there is any state amendment if provided for particular section, \\npecisely based only on the provided context:{context}\\n\\noutput should be:\\n\\n1. Section number:\\n2. Section Title:\\n3. Definition:\\n4. Detailed information:\\n5. State Amendments: If provided\\n6. Punishments and Fines: from \"- Punishment and Fines:-\" only if provided\\n'), additional_kwargs={})])\n",
       "| ChatGroq(client=<groq.resources.chat.completions.Completions object at 0x0000027D49A86120>, async_client=<groq.resources.chat.completions.AsyncCompletions object at 0x0000027D497D4590>, model_name='llama3-8b-8192', model_kwargs={}, groq_api_key=SecretStr('**********'))\n",
       "| StrOutputParser(), kwargs={}, config={'run_name': 'stuff_documents_chain'}, config_factories=[])"
      ]
     },
     "execution_count": 25,
     "metadata": {},
     "output_type": "execute_result"
    }
   ],
   "source": [
    "# Create document chain\n",
    "document_chain = create_stuff_documents_chain(llm, prompt)\n",
    "document_chain"
   ]
  },
  {
   "cell_type": "code",
   "execution_count": 26,
   "metadata": {},
   "outputs": [],
   "source": [
    "# Input--->Retriever--->vectorstoredb\n",
    "\n",
    "# Create Retrieve\n",
    "retriever = db.as_retriever(similarity_score_threshold=0.3)\n",
    "retrieval_chain = create_retrieval_chain(retriever,document_chain)"
   ]
  },
  {
   "cell_type": "code",
   "execution_count": 27,
   "metadata": {},
   "outputs": [
    {
     "data": {
      "text/plain": [
       "RunnableBinding(bound=RunnableAssign(mapper={\n",
       "  context: RunnableBinding(bound=RunnableLambda(lambda x: x['input'])\n",
       "           | VectorStoreRetriever(tags=['Qdrant', 'HuggingFaceBgeEmbeddings'], vectorstore=<langchain_community.vectorstores.qdrant.Qdrant object at 0x0000027D2711C590>, search_kwargs={}), kwargs={}, config={'run_name': 'retrieve_documents'}, config_factories=[])\n",
       "})\n",
       "| RunnableAssign(mapper={\n",
       "    answer: RunnableBinding(bound=RunnableBinding(bound=RunnableAssign(mapper={\n",
       "              context: RunnableLambda(format_docs)\n",
       "            }), kwargs={}, config={'run_name': 'format_inputs'}, config_factories=[])\n",
       "            | ChatPromptTemplate(input_variables=['context', 'input'], input_types={}, partial_variables={}, messages=[HumanMessagePromptTemplate(prompt=PromptTemplate(input_variables=['context', 'input'], input_types={}, partial_variables={}, template='\\n    you are a traffic police inspector, advicing and explaining the MVA sections.\\nSo, based on the query:{input}, precisely filter the sections from the context\\nand describe section information, \\nif the sections are interconnected to one another then include them too,\\nif any section is ommited then mention and highlight that,\\nprovide punishment and fine only from \"- Punishment and Fines\" from context,\\nalso apecify and explain if there is any state amendment if provided for particular section, \\npecisely based only on the provided context:{context}\\n\\noutput should be:\\n\\n1. Section number:\\n2. Section Title:\\n3. Definition:\\n4. Detailed information:\\n5. State Amendments: If provided\\n6. Punishments and Fines: from \"- Punishment and Fines:-\" only if provided\\n'), additional_kwargs={})])\n",
       "            | ChatGroq(client=<groq.resources.chat.completions.Completions object at 0x0000027D49A86120>, async_client=<groq.resources.chat.completions.AsyncCompletions object at 0x0000027D497D4590>, model_name='llama3-8b-8192', model_kwargs={}, groq_api_key=SecretStr('**********'))\n",
       "            | StrOutputParser(), kwargs={}, config={'run_name': 'stuff_documents_chain'}, config_factories=[])\n",
       "  }), kwargs={}, config={'run_name': 'retrieval_chain'}, config_factories=[])"
      ]
     },
     "execution_count": 27,
     "metadata": {},
     "output_type": "execute_result"
    }
   ],
   "source": [
    "retrieval_chain"
   ]
  },
  {
   "cell_type": "code",
   "execution_count": 28,
   "metadata": {},
   "outputs": [
    {
     "data": {
      "text/plain": [
       "{'input': 'On March 5, 2025, at around 9:15 AM, a head-on collision occurred on the Eastern Express Highway in Mumbai when a two-wheeler, traveling on the wrong side , crashed into a sedan at high speed. The rider, identified as 24-year-old Arjun Verma, was trying to take a shortcut to avoid traffic when he suddenly entered the fast lane, colliding with an oncoming car driven by Priya Shah. The impact threw Arjun off his bike, causing severe head injuries , while Priya sustained minor bruises. Passersby called for help, and emergency services transported Arjun to the hospital. Police investigations confirmed that Arjun was at fault for violating traffic laws. Priya’s car repair costs were covered by Arjun’s third-party insurance, but he faced suspension of his driving license for repeated violations. The incident led to increased traffic surveillance and stricter enforcement against wrong-side driving in Mumbai.',\n",
       " 'context': [Document(metadata={'source': 'MVA_Data.md', '_id': 'f430d2c8-65e6-4e2b-bdca-8515fa8a73c5', '_collection_name': 'MVA_db'}, page_content='MVA SECTION: 190. Using vehicle in unsafe condition.\\n    Definition: This section defines the offense of using a vehicle in an unsafe condition. It also covers driving a vehicle that violates road safety, noise, or air pollution standards. \\n    (1) Any person who drives or causes or allows to be driven in any public place a motor vehicle or trailer while the vehicle or trailer has any defect, which such person knows of or could have discovered by the exercise of ordinary care and which is calculated to render the driving of the vehicle a source of danger to persons and vehicles using such place, shall be punishable with fine of one thousand five hundred rupees or, if as a result of such defect an accident is caused causing bodily injury or damage to property, with imprisonment for a term which may extend to three months, or with fine 12 of five thousand rupees, or with both and for a subsequent offence shall be punishable with imprisonment for a term which may extend to six months, or with a fine of ten thousand rupees for bodily injury or damage to property.\\n    (2) Any person who drives or causes or allows to be driven, in any public place a motor vehicle, which violates the standards prescribed in relation to road safety, control of noise and air-pollution, shall be punishable for the first offence with 14[imprisonment for a term which may extend to three months, or with fine which may extend to ten thousand rupees or with both and he shall be disqualified for holding licence for a period of three months] and for any second or subsequent offence with imprisonment for a term which may extend to six months, or with fine which may extend to ten thousand rupees or with both.\\n    (3) Any person who drives or causes or allows to be driven, in any public place a motor vehicle which violates the provisions of this Act or the rules made thereunder relating to the carriage of goods which are of dangerous or hazardous nature to human life, shall be punishable for the first offence with a fine of ten thousand rupees and he shall be disqualified for holding licence for a period of three months, or with imprisonment for a term which may extend to one year, or with both, and for any second or subsequent offence with fine of twenty thousand rupees, or with imprisonment for a term which may extend to three years, or with both.\\n    - Punishments & Fine :-'),\n",
       "  Document(metadata={'source': 'MVA_Data.md', '_id': '62ce6e68-a7a3-488d-97ad-b849b113b365', '_collection_name': 'MVA_db'}, page_content='MVA SECTION: 192. Using vehicle without registration.\\n    Definition: This section deals with using a vehicle without registration. It states that driving a vehicle without registration is an offense and can result in a fine and/or imprisonment. \\n    (1) Whoever drives a motor vehicle or causes or allows a motor vehicle to be used in contravention of the provisions of section 39 shall be punishable for the first offence with a fine which may extend to five thousand rupees but shall not be less than two thousand rupees for a second or subsequent offence with imprisonment which may extend to one year or with fine which may extend to ten thousand rupees but shall not be less than five thousand rupees or with both: Provided that the court may, for reasons to be recorded, impose a lesser punishment.\\n    (2) Nothing in this section shall apply to the use of a motor vehicle in an emergency for the conveyance of persons suffering from sickness or injuries or for the transport of food or materials to relieve distress or of medical supplies for a like purpose: Provided that the persons using the vehicle reports about the same to the Regional Transport Authority within seven days from the date of such use.\\n    (3) The court to which an appeal lies from any conviction in respect of an offence of the nature specified in subsection (1), may set aside or vary any order made by the court below, notwithstanding that no appeal lies against the conviction in connection with which such order was made.\\n    Explanation: Use of a motor vehicle in contravention of the provisions of section 56 shall be deemed to be a contravention of the provisions of section 39 and shall be punishable in the same manner as provided in sub-section (1).\\n    - STATE AMENDMENT Rajasthan\\n        - Amendment of Section 192, Central Act 59 of 1988.-In Section 192 of the Motor Vehicles Act, 1988 (Central Act 59 of 1988), in its application to the State of Rajasthan, hereinafter referred to as the Principal Act,-\\n            (a) in sub-section (1), for the expression “with fine which may extend to two thousand rupees” as occurring between the expression “punishable for the first offence” and the expression “and for any second or subsequent offence”, the expression “with fine which shall not be less than five thousand rupees” and for the expression “with fine which may extend to three thousand rupees” as occurring between the expression “which may extend to six months or” and the expression “or with both”, the expression “with fine which shall not be less than ten thousand rupees” shall be substituted, and\\n            (b) After sub-section (1) as so amended, the following proviso shall be inserted, namely:-“Provided that, in a case of contravention of the provision of section 39 or of any condition of the permit relating to the maximum number of passengers or maximum weight of luggage that may be carried on the vehicle, the court may for any adequate or special reason to be mentioned in the judgment, impose a fine less than that laid down in this subsection.” [Vide Rajasthan Act 2 of 1993, s. 2]\\n    - Punishments & Fine :- Maximum fine of five thousand rupees for first offence and ten thousand rupees for second or subsequent offence and Punishment as a Court Challan for first and subsequent offence.'),\n",
       "  Document(metadata={'source': 'MVA_Data.md', '_id': '3e0aff78-893e-4d46-b0ed-7c18385c4f17', '_collection_name': 'MVA_db'}, page_content='MVA SECTION: 201. Penalty for causing obstruction to free flow of traffic.\\n    Definition: This section states that a person who blocks the free flow of traffic by keeping a disabled vehicle on a public road is liable to a penalty. This penalty is applicable as long as the vehicle remains in that position. \\n    (1) Whoever keeps a vehicle on any public place, in such a manner, so as to cause impediment to the free flow of traffic, shall be liable for penalty up to  five hundred rupees, so long as it remains in that position: Provided that the vehicle involved in accidents shall be liable for penalty only from the time of completion of inspection formalities under the law. Provided further that where the vehicle is removed by an agency authorised by the Central Government or State Government, removal charges shall be recovered from the vehicle owner or person in-charge of such vehicle.\\n    (2) Penalties or removal charges under this section shall be recovered by such officer or authority as the State Government may, by notification in the Official Gazette, authorise.\\n    (3) sub-section (1) shall not apply where the motor vehicle has suffered an unforeseen breakdown and is in the process of being removed.\\n    Explanation: For the purposes of this section, “removal charges” includes any costs involved in the removal of the motor vehicle from one location to another and also includes any costs related to storage of such motor vehicle.\\n    - Punishments & Fine :-'),\n",
       "  Document(metadata={'source': 'MVA_Data.md', '_id': '7c9cb9dc-18fc-4881-bdd1-98366034f10f', '_collection_name': 'MVA_db'}, page_content='MVA SECTION: 194D. Penalty for not wearing protective headgear.\\n    Definition: This section states that a person who drives a motorcycle without a helmet can be fined and disqualified from driving.\\n    - Whoever drives a motor cycle or causes or allows a motor cycle to be driven in contravention of the provisions of section 129 or the rules or regulations made thereunder shall be punishable with a fine of one thousand rupees and he shall be disqualified for holding licence for a period of three months.\\n    - Punishments & Fine :- Maximum fine of one thousand rupees for first offence and one thousand rupees for second or subsequent offence.')],\n",
       " 'answer': 'Based on the provided context, the following sections are applicable:\\n\\n**MVA SECTION: 190**\\n\\n1. Section number: 190\\n2. Section Title: Using vehicle in unsafe condition\\n3. Definition: This section defines the offense of using a vehicle in an unsafe condition. It also covers driving a vehicle that violates road safety, noise, or air pollution standards.\\n4. Detailed information: The section states that any person who drives or causes or allows to be driven in any public place a motor vehicle or trailer while the vehicle or trailer has any defect, which such person knows of or could have discovered by the exercise of ordinary care and which is calculated to render the driving of the vehicle a source of danger to persons and vehicles using such place, shall be punishable with fine of one thousand five hundred rupees or, if as a result of such defect an accident is caused causing bodily injury or damage to property, with imprisonment for a term which may extend to three months, or with fine 12 of five thousand rupees, or with both and for a subsequent offence shall be punishable with imprisonment for a term which may extend to six months, or with a fine of ten thousand rupees for bodily injury or damage to property.\\n5. State Amendments: None provided\\n\\n6. Punishments and Fines:\\n\\t* First offence: fine of one thousand five hundred rupees\\n\\t* Second or subsequent offence: fine of ten thousand rupees, or imprisonment for a term which may extend to six months, or with both\\n\\n**MVA SECTION: 192**\\n\\n1. Section number: 192\\n2. Section Title: Using vehicle without registration\\n3. Definition: This section deals with using a vehicle without registration. It states that driving a vehicle without registration is an offense and can result in a fine and/or imprisonment.\\n4. Detailed information: The section states that whoever drives a motor vehicle or causes or allows a motor vehicle to be used in contravention of the provisions of section 39 shall be punishable for the first offence with a fine which may extend to five thousand rupees but shall not be less than two thousand rupees for a second or subsequent offence with imprisonment which may extend to one year or with fine which may extend to ten thousand rupees but shall not be less than five thousand rupees or with both.\\n5. State Amendments: Rajasthan Amendment - In sub-section (1), the fine for the first offence is increased to five thousand rupees and for the second or subsequent offence, the fine is increased to ten thousand rupees.\\n\\n6. Punishments and Fines:\\n\\t* First offence: fine of two thousand rupees to five thousand rupees and imprisonment for a term which may extend to one year, or fine of five thousand rupees to ten thousand rupees\\n\\t* Second or subsequent offence: fine of five thousand rupees to ten thousand rupees and imprisonment for a term which may extend to one year, or fine of ten thousand rupees\\n\\n**MVA SECTION: 201**\\n\\n1. Section number: 201\\n2. Section Title: Penalty for causing obstruction to free flow of traffic\\n3. Definition: This section states that a person who blocks the free flow of traffic by keeping a disabled vehicle on a public road is liable to a penalty.\\n4. Detailed information: The section states that whoever keeps a vehicle on any public place, in such a manner, so as to cause impediment to the free flow of traffic, shall be liable for penalty up to five hundred rupees, so long as it remains in that position.\\n5. State Amendments: None provided\\n\\n6. Punishments and Fines: Maximum fine of five hundred rupees\\n\\n**MVA SECTION: 194D**\\n\\n1. Section number: 194D\\n2. Section Title: Penalty for not wearing protective headgear\\n3. Definition: This section states that a person who drives a motorcycle without a helmet can be fined and disqualified from driving.\\n4. Detailed information: The section states that whoever drives a motor cycle or causes or allows a motor cycle to be driven in contravention of the provisions of section 129 or the rules or regulations made thereunder shall be punishable with a fine of one thousand rupees and he shall be disqualified for holding licence for a period of three months.\\n5. State Amendments: None provided\\n\\n6. Punishments and Fines: Maximum fine of one thousand rupees and disqualification for a period of three months'}"
      ]
     },
     "execution_count": 28,
     "metadata": {},
     "output_type": "execute_result"
    }
   ],
   "source": [
    "# Get the response from the LLM\n",
    "response = retrieval_chain.invoke({\"input\":query})\n",
    "response"
   ]
  },
  {
   "cell_type": "code",
   "execution_count": 29,
   "metadata": {},
   "outputs": [
    {
     "name": "stdout",
     "output_type": "stream",
     "text": [
      "MVA SECTION: 190. Using vehicle in unsafe condition.\n",
      "    Definition: This section defines the offense of using a vehicle in an unsafe condition. It also covers driving a vehicle that violates road safety, noise, or air pollution standards. \n",
      "    (1) Any person who drives or causes or allows to be driven in any public place a motor vehicle or trailer while the vehicle or trailer has any defect, which such person knows of or could have discovered by the exercise of ordinary care and which is calculated to render the driving of the vehicle a source of danger to persons and vehicles using such place, shall be punishable with fine of one thousand five hundred rupees or, if as a result of such defect an accident is caused causing bodily injury or damage to property, with imprisonment for a term which may extend to three months, or with fine 12 of five thousand rupees, or with both and for a subsequent offence shall be punishable with imprisonment for a term which may extend to six months, or with a fine of ten thousand rupees for bodily injury or damage to property.\n",
      "    (2) Any person who drives or causes or allows to be driven, in any public place a motor vehicle, which violates the standards prescribed in relation to road safety, control of noise and air-pollution, shall be punishable for the first offence with 14[imprisonment for a term which may extend to three months, or with fine which may extend to ten thousand rupees or with both and he shall be disqualified for holding licence for a period of three months] and for any second or subsequent offence with imprisonment for a term which may extend to six months, or with fine which may extend to ten thousand rupees or with both.\n",
      "    (3) Any person who drives or causes or allows to be driven, in any public place a motor vehicle which violates the provisions of this Act or the rules made thereunder relating to the carriage of goods which are of dangerous or hazardous nature to human life, shall be punishable for the first offence with a fine of ten thousand rupees and he shall be disqualified for holding licence for a period of three months, or with imprisonment for a term which may extend to one year, or with both, and for any second or subsequent offence with fine of twenty thousand rupees, or with imprisonment for a term which may extend to three years, or with both.\n",
      "    - Punishments & Fine :-\n",
      "\n",
      "========================\n",
      "\n",
      "MVA SECTION: 192. Using vehicle without registration.\n",
      "    Definition: This section deals with using a vehicle without registration. It states that driving a vehicle without registration is an offense and can result in a fine and/or imprisonment. \n",
      "    (1) Whoever drives a motor vehicle or causes or allows a motor vehicle to be used in contravention of the provisions of section 39 shall be punishable for the first offence with a fine which may extend to five thousand rupees but shall not be less than two thousand rupees for a second or subsequent offence with imprisonment which may extend to one year or with fine which may extend to ten thousand rupees but shall not be less than five thousand rupees or with both: Provided that the court may, for reasons to be recorded, impose a lesser punishment.\n",
      "    (2) Nothing in this section shall apply to the use of a motor vehicle in an emergency for the conveyance of persons suffering from sickness or injuries or for the transport of food or materials to relieve distress or of medical supplies for a like purpose: Provided that the persons using the vehicle reports about the same to the Regional Transport Authority within seven days from the date of such use.\n",
      "    (3) The court to which an appeal lies from any conviction in respect of an offence of the nature specified in subsection (1), may set aside or vary any order made by the court below, notwithstanding that no appeal lies against the conviction in connection with which such order was made.\n",
      "    Explanation: Use of a motor vehicle in contravention of the provisions of section 56 shall be deemed to be a contravention of the provisions of section 39 and shall be punishable in the same manner as provided in sub-section (1).\n",
      "    - STATE AMENDMENT Rajasthan\n",
      "        - Amendment of Section 192, Central Act 59 of 1988.-In Section 192 of the Motor Vehicles Act, 1988 (Central Act 59 of 1988), in its application to the State of Rajasthan, hereinafter referred to as the Principal Act,-\n",
      "            (a) in sub-section (1), for the expression “with fine which may extend to two thousand rupees” as occurring between the expression “punishable for the first offence” and the expression “and for any second or subsequent offence”, the expression “with fine which shall not be less than five thousand rupees” and for the expression “with fine which may extend to three thousand rupees” as occurring between the expression “which may extend to six months or” and the expression “or with both”, the expression “with fine which shall not be less than ten thousand rupees” shall be substituted, and\n",
      "            (b) After sub-section (1) as so amended, the following proviso shall be inserted, namely:-“Provided that, in a case of contravention of the provision of section 39 or of any condition of the permit relating to the maximum number of passengers or maximum weight of luggage that may be carried on the vehicle, the court may for any adequate or special reason to be mentioned in the judgment, impose a fine less than that laid down in this subsection.” [Vide Rajasthan Act 2 of 1993, s. 2]\n",
      "    - Punishments & Fine :- Maximum fine of five thousand rupees for first offence and ten thousand rupees for second or subsequent offence and Punishment as a Court Challan for first and subsequent offence.\n",
      "\n",
      "========================\n",
      "\n",
      "MVA SECTION: 201. Penalty for causing obstruction to free flow of traffic.\n",
      "    Definition: This section states that a person who blocks the free flow of traffic by keeping a disabled vehicle on a public road is liable to a penalty. This penalty is applicable as long as the vehicle remains in that position. \n",
      "    (1) Whoever keeps a vehicle on any public place, in such a manner, so as to cause impediment to the free flow of traffic, shall be liable for penalty up to  five hundred rupees, so long as it remains in that position: Provided that the vehicle involved in accidents shall be liable for penalty only from the time of completion of inspection formalities under the law. Provided further that where the vehicle is removed by an agency authorised by the Central Government or State Government, removal charges shall be recovered from the vehicle owner or person in-charge of such vehicle.\n",
      "    (2) Penalties or removal charges under this section shall be recovered by such officer or authority as the State Government may, by notification in the Official Gazette, authorise.\n",
      "    (3) sub-section (1) shall not apply where the motor vehicle has suffered an unforeseen breakdown and is in the process of being removed.\n",
      "    Explanation: For the purposes of this section, “removal charges” includes any costs involved in the removal of the motor vehicle from one location to another and also includes any costs related to storage of such motor vehicle.\n",
      "    - Punishments & Fine :-\n",
      "\n",
      "========================\n",
      "\n",
      "MVA SECTION: 194D. Penalty for not wearing protective headgear.\n",
      "    Definition: This section states that a person who drives a motorcycle without a helmet can be fined and disqualified from driving.\n",
      "    - Whoever drives a motor cycle or causes or allows a motor cycle to be driven in contravention of the provisions of section 129 or the rules or regulations made thereunder shall be punishable with a fine of one thousand rupees and he shall be disqualified for holding licence for a period of three months.\n",
      "    - Punishments & Fine :- Maximum fine of one thousand rupees for first offence and one thousand rupees for second or subsequent offence.\n",
      "\n",
      "========================\n",
      "\n"
     ]
    }
   ],
   "source": [
    "for i in response['context']:\n",
    "    print(i.page_content)\n",
    "    print(\"\\n========================\\n\")"
   ]
  },
  {
   "cell_type": "code",
   "execution_count": 30,
   "metadata": {},
   "outputs": [
    {
     "data": {
      "text/plain": [
       "['Based on the provided context, the following sections are applicable:',\n",
       " '**MVA SECTION: 190**',\n",
       " '1. Section number: 190\\n2. Section Title: Using vehicle in unsafe condition\\n3. Definition: This section defines the offense of using a vehicle in an unsafe condition. It also covers driving a vehicle that violates road safety, noise, or air pollution standards.\\n4. Detailed information: The section states that any person who drives or causes or allows to be driven in any public place a motor vehicle or trailer while the vehicle or trailer has any defect, which such person knows of or could have discovered by the exercise of ordinary care and which is calculated to render the driving of the vehicle a source of danger to persons and vehicles using such place, shall be punishable with fine of one thousand five hundred rupees or, if as a result of such defect an accident is caused causing bodily injury or damage to property, with imprisonment for a term which may extend to three months, or with fine 12 of five thousand rupees, or with both and for a subsequent offence shall be punishable with imprisonment for a term which may extend to six months, or with a fine of ten thousand rupees for bodily injury or damage to property.\\n5. State Amendments: None provided',\n",
       " '6. Punishments and Fines:\\n\\t* First offence: fine of one thousand five hundred rupees\\n\\t* Second or subsequent offence: fine of ten thousand rupees, or imprisonment for a term which may extend to six months, or with both',\n",
       " '**MVA SECTION: 192**',\n",
       " '1. Section number: 192\\n2. Section Title: Using vehicle without registration\\n3. Definition: This section deals with using a vehicle without registration. It states that driving a vehicle without registration is an offense and can result in a fine and/or imprisonment.\\n4. Detailed information: The section states that whoever drives a motor vehicle or causes or allows a motor vehicle to be used in contravention of the provisions of section 39 shall be punishable for the first offence with a fine which may extend to five thousand rupees but shall not be less than two thousand rupees for a second or subsequent offence with imprisonment which may extend to one year or with fine which may extend to ten thousand rupees but shall not be less than five thousand rupees or with both.\\n5. State Amendments: Rajasthan Amendment - In sub-section (1), the fine for the first offence is increased to five thousand rupees and for the second or subsequent offence, the fine is increased to ten thousand rupees.',\n",
       " '6. Punishments and Fines:\\n\\t* First offence: fine of two thousand rupees to five thousand rupees and imprisonment for a term which may extend to one year, or fine of five thousand rupees to ten thousand rupees\\n\\t* Second or subsequent offence: fine of five thousand rupees to ten thousand rupees and imprisonment for a term which may extend to one year, or fine of ten thousand rupees',\n",
       " '**MVA SECTION: 201**',\n",
       " '1. Section number: 201\\n2. Section Title: Penalty for causing obstruction to free flow of traffic\\n3. Definition: This section states that a person who blocks the free flow of traffic by keeping a disabled vehicle on a public road is liable to a penalty.\\n4. Detailed information: The section states that whoever keeps a vehicle on any public place, in such a manner, so as to cause impediment to the free flow of traffic, shall be liable for penalty up to five hundred rupees, so long as it remains in that position.\\n5. State Amendments: None provided',\n",
       " '6. Punishments and Fines: Maximum fine of five hundred rupees',\n",
       " '**MVA SECTION: 194D**',\n",
       " '1. Section number: 194D\\n2. Section Title: Penalty for not wearing protective headgear\\n3. Definition: This section states that a person who drives a motorcycle without a helmet can be fined and disqualified from driving.\\n4. Detailed information: The section states that whoever drives a motor cycle or causes or allows a motor cycle to be driven in contravention of the provisions of section 129 or the rules or regulations made thereunder shall be punishable with a fine of one thousand rupees and he shall be disqualified for holding licence for a period of three months.\\n5. State Amendments: None provided',\n",
       " '6. Punishments and Fines: Maximum fine of one thousand rupees and disqualification for a period of three months']"
      ]
     },
     "execution_count": 30,
     "metadata": {},
     "output_type": "execute_result"
    }
   ],
   "source": [
    "response['answer'].strip().split('\\n\\n')"
   ]
  },
  {
   "cell_type": "code",
   "execution_count": 31,
   "metadata": {},
   "outputs": [
    {
     "name": "stdout",
     "output_type": "stream",
     "text": [
      "Based on the provided context, the following sections are applicable:\n",
      "\n",
      "MVA SECTION: 190\n",
      "\n",
      "1. Section number: 190\n",
      "2. Section Title: Using vehicle in unsafe condition\n",
      "3. Definition: This section defines the offense of using a vehicle in an unsafe condition. It also covers driving a vehicle that violates road safety, noise, or air pollution standards.\n",
      "4. Detailed information: The section states that any person who drives or causes or allows to be driven in any public place a motor vehicle or trailer while the vehicle or trailer has any defect, which such person knows of or could have discovered by the exercise of ordinary care and which is calculated to render the driving of the vehicle a source of danger to persons and vehicles using such place, shall be punishable with fine of one thousand five hundred rupees or, if as a result of such defect an accident is caused causing bodily injury or damage to property, with imprisonment for a term which may extend to three months, or with fine 12 of five thousand rupees, or with both and for a subsequent offence shall be punishable with imprisonment for a term which may extend to six months, or with a fine of ten thousand rupees for bodily injury or damage to property.\n",
      "5. State Amendments: None provided\n",
      "\n",
      "6. Punishments and Fines:\n",
      "\t* First offence: fine of one thousand five hundred rupees\n",
      "\t* Second or subsequent offence: fine of ten thousand rupees, or imprisonment for a term which may extend to six months, or with both\n",
      "\n",
      "MVA SECTION: 192\n",
      "\n",
      "1. Section number: 192\n",
      "2. Section Title: Using vehicle without registration\n",
      "3. Definition: This section deals with using a vehicle without registration. It states that driving a vehicle without registration is an offense and can result in a fine and/or imprisonment.\n",
      "4. Detailed information: The section states that whoever drives a motor vehicle or causes or allows a motor vehicle to be used in contravention of the provisions of section 39 shall be punishable for the first offence with a fine which may extend to five thousand rupees but shall not be less than two thousand rupees for a second or subsequent offence with imprisonment which may extend to one year or with fine which may extend to ten thousand rupees but shall not be less than five thousand rupees or with both.\n",
      "5. State Amendments: Rajasthan Amendment - In sub-section (1), the fine for the first offence is increased to five thousand rupees and for the second or subsequent offence, the fine is increased to ten thousand rupees.\n",
      "\n",
      "6. Punishments and Fines:\n",
      "\t* First offence: fine of two thousand rupees to five thousand rupees and imprisonment for a term which may extend to one year, or fine of five thousand rupees to ten thousand rupees\n",
      "\t* Second or subsequent offence: fine of five thousand rupees to ten thousand rupees and imprisonment for a term which may extend to one year, or fine of ten thousand rupees\n",
      "\n",
      "MVA SECTION: 201\n",
      "\n",
      "1. Section number: 201\n",
      "2. Section Title: Penalty for causing obstruction to free flow of traffic\n",
      "3. Definition: This section states that a person who blocks the free flow of traffic by keeping a disabled vehicle on a public road is liable to a penalty.\n",
      "4. Detailed information: The section states that whoever keeps a vehicle on any public place, in such a manner, so as to cause impediment to the free flow of traffic, shall be liable for penalty up to five hundred rupees, so long as it remains in that position.\n",
      "5. State Amendments: None provided\n",
      "\n",
      "6. Punishments and Fines: Maximum fine of five hundred rupees\n",
      "\n",
      "MVA SECTION: 194D\n",
      "\n",
      "1. Section number: 194D\n",
      "2. Section Title: Penalty for not wearing protective headgear\n",
      "3. Definition: This section states that a person who drives a motorcycle without a helmet can be fined and disqualified from driving.\n",
      "4. Detailed information: The section states that whoever drives a motor cycle or causes or allows a motor cycle to be driven in contravention of the provisions of section 129 or the rules or regulations made thereunder shall be punishable with a fine of one thousand rupees and he shall be disqualified for holding licence for a period of three months.\n",
      "5. State Amendments: None provided\n",
      "\n",
      "6. Punishments and Fines: Maximum fine of one thousand rupees and disqualification for a period of three months\n"
     ]
    }
   ],
   "source": [
    "import re\n",
    "\n",
    "# Extract text from the response dictionary\n",
    "raw_text = response['answer']\n",
    "\n",
    "# Remove Markdown-style formatting (e.g., '**' for bold)\n",
    "clean_text = re.sub(r'\\*\\*', '', raw_text)\n",
    "\n",
    "print(clean_text)"
   ]
  }
 ],
 "metadata": {
  "kernelspec": {
   "display_name": "Python 3",
   "language": "python",
   "name": "python3"
  },
  "language_info": {
   "codemirror_mode": {
    "name": "ipython",
    "version": 3
   },
   "file_extension": ".py",
   "mimetype": "text/x-python",
   "name": "python",
   "nbconvert_exporter": "python",
   "pygments_lexer": "ipython3",
   "version": "3.13.2"
  }
 },
 "nbformat": 4,
 "nbformat_minor": 2
}
